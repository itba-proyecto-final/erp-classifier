{
 "cells": [
  {
   "cell_type": "markdown",
   "metadata": {},
   "source": [
    "# Information\n",
    "\n",
    "- Full paper: https://www.ncbi.nlm.nih.gov/pmc/articles/PMC4374466/"
   ]
  },
  {
   "cell_type": "markdown",
   "metadata": {},
   "source": [
    "# Load & config libraries"
   ]
  },
  {
   "cell_type": "code",
   "execution_count": null,
   "metadata": {},
   "outputs": [],
   "source": [
    "import mne\n",
    "import scipy.io as sio\n",
    "import numpy    as np\n",
    "\n",
    "from sklearn.pipeline import make_pipeline\n",
    "from sklearn.linear_model import LogisticRegression\n",
    "from sklearn.metrics import classification_report, confusion_matrix\n",
    "from sklearn.preprocessing import MinMaxScaler\n",
    "\n",
    "mne.set_log_level('INFO')"
   ]
  },
  {
   "cell_type": "markdown",
   "metadata": {},
   "source": [
    "# Load file"
   ]
  },
  {
   "cell_type": "code",
   "execution_count": null,
   "metadata": {},
   "outputs": [],
   "source": [
    "# Load matlab file\n",
    "# https://docs.scipy.org/doc/scipy/reference/tutorial/io.html\n",
    "# Load the MATLAB structs as python objects rather than numpy structured arrays (struct_as_record=False)\n",
    "mat = sio.loadmat('/Users/juanm/Downloads/Proyecto Final/Continous ErrP Dataset/Subjects/S01.mat', struct_as_record=False, squeeze_me=True, chars_as_strings=True)\n",
    "\n",
    "print('Loaded subject {} file'.format(mat['info'].subject))"
   ]
  },
  {
   "cell_type": "markdown",
   "metadata": {},
   "source": [
    "# Load signals"
   ]
  },
  {
   "cell_type": "code",
   "execution_count": null,
   "metadata": {},
   "outputs": [],
   "source": [
    "ch_names = mat['info'].channelnames.tolist()\n",
    "ch_types = ['eeg'] * 28 + ['eog'] * 3 # 28 EEG & 3 EOG channels\n",
    "sampling_rate  = mat['info'].samplingrate_Hz\n",
    "\n",
    "# https://martinos.org/mne/stable/generated/mne.create_info.html\n",
    "sig_info = mne.create_info(ch_names, sampling_rate, ch_types)\n",
    "\n",
    "# Create MNE objects from data array\n",
    "# https://martinos.org/mne/stable/auto_examples/io/plot_objects_from_arrays.html\n",
    "sig_data = mat['eeg_signal']\n",
    "sig_mne  = mne.io.array.RawArray(sig_data.T, sig_info)\n",
    "\n",
    "# Set missing montage (electrode positions)\n",
    "# https://martinos.org/mne/stable/generated/mne.io.Raw.html#mne.io.Raw.set_montage\n",
    "# https://mne-tools.github.io/stable/generated/mne.channels.Montage.html\n",
    "# Electrodes are named and positioned according to the international 10-20 system (94+3 locations)\n",
    "sig_mne.set_montage('standard_1020')\n",
    "\n",
    "print('Loaded subject {} data'.format(mat['info'].subject))"
   ]
  },
  {
   "cell_type": "markdown",
   "metadata": {},
   "source": [
    "# Plot signals"
   ]
  },
  {
   "cell_type": "code",
   "execution_count": null,
   "metadata": {},
   "outputs": [],
   "source": [
    "# Plot sensors\n",
    "sig_mne.plot_sensors()"
   ]
  },
  {
   "cell_type": "code",
   "execution_count": null,
   "metadata": {},
   "outputs": [],
   "source": [
    "# Only include EEG channels\n",
    "picks = mne.pick_types(sig_info, eeg=True)"
   ]
  },
  {
   "cell_type": "code",
   "execution_count": null,
   "metadata": {},
   "outputs": [],
   "source": [
    "# Compute the power spectral density of raw data\n",
    "# https://martinos.org/mne/stable/auto_examples/time_frequency/plot_compute_raw_data_spectrum.html\n",
    "sig_mne.plot_psd(picks=picks)"
   ]
  },
  {
   "cell_type": "code",
   "execution_count": null,
   "metadata": {
    "scrolled": true
   },
   "outputs": [],
   "source": [
    "# Low-pass filter data\n",
    "sig_mne.filter(l_freq=1.0, h_freq=20.0)\n",
    "\n",
    "# Plot the power spectral density across filtered channels\n",
    "sig_mne.plot_psd(picks=picks)"
   ]
  },
  {
   "cell_type": "code",
   "execution_count": null,
   "metadata": {
    "scrolled": false
   },
   "outputs": [],
   "source": [
    "# Plot raw data of first 10 channels\n",
    "sig_mne.plot(n_channels=10, scalings='auto', block=True)"
   ]
  },
  {
   "cell_type": "code",
   "execution_count": null,
   "metadata": {},
   "outputs": [],
   "source": [
    "# start, stop = raw.time_as_index([100, 115])  # 100 s to 115 s data segment\n",
    "# data, times = raw[:, start:stop]\n",
    "# print(data.shape)\n",
    "# print(times.shape)\n",
    "# data, times = raw[2:20:3, start:stop]  # access underlying data\n",
    "# raw.plot()"
   ]
  },
  {
   "cell_type": "markdown",
   "metadata": {},
   "source": [
    "# Analize error"
   ]
  },
  {
   "cell_type": "markdown",
   "metadata": {},
   "source": [
    "## Load error"
   ]
  },
  {
   "cell_type": "code",
   "execution_count": null,
   "metadata": {},
   "outputs": [],
   "source": [
    "# Add ee event channel\n",
    "ch_names_wee = ch_names + ['t_type']\n",
    "ch_types_wee = ch_types + ['misc']\n",
    "sig_wee_info = mne.create_info(ch_names_wee, sampling_rate, ch_types_wee)\n",
    "\n",
    "# Create mne's info/raw with ee event channel\n",
    "ee_data      = mat['marker'].execution_error\n",
    "sig_wee_data = np.c_[sig_data, ee_data] # https://stackoverflow.com/q/20978757/3349531\n",
    "sig_wee_mne  = mne.io.array.RawArray(sig_wee_data.T, sig_wee_info)\n",
    "sig_wee_mne.set_montage('standard_1020')\n",
    "\n",
    "# Find events & epochs\n",
    "ee_events      = mne.find_events(sig_wee_mne, stim_channel='t_type')\n",
    "sig_wee_epochs = mne.Epochs(sig_mne, ee_events, tmin=0, tmax=2)\n",
    "print('Loaded (#Epochs, #Channels, #Times) = {}'.format(sig_wee_epochs.get_data().shape))"
   ]
  },
  {
   "cell_type": "code",
   "execution_count": null,
   "metadata": {
    "scrolled": false
   },
   "outputs": [],
   "source": [
    "# Plot evoked/avg\n",
    "sig_wee_epochs_evoked = sig_wee_epochs.average()\n",
    "sig_wee_epochs_evoked.plot(spatial_colors=True, time_unit='s', gfp=True)"
   ]
  },
  {
   "cell_type": "code",
   "execution_count": null,
   "metadata": {},
   "outputs": [],
   "source": [
    "# TODO: Consultar que hace esto\n",
    "\n",
    "# Find events & epochs\n",
    "alt_sig_wee_epochs = mne.Epochs(sig_mne, ee_events, {'first': 1}, tmin=0, tmax=2)\n",
    "print('Loaded (#Epochs, #Channels, #Times) = {}'.format(alt_sig_wee_epochs.get_data().shape))\n",
    "\n",
    "# Plot evoked/avg\n",
    "alt_sig_wee_epochs_evoked = alt_sig_wee_epochs.average()\n",
    "alt_sig_wee_epochs_evoked.plot(spatial_colors=True, time_unit='s', gfp=True)"
   ]
  },
  {
   "cell_type": "code",
   "execution_count": null,
   "metadata": {},
   "outputs": [],
   "source": []
  }
 ],
 "metadata": {
  "kernelspec": {
   "display_name": "Python 3",
   "language": "python",
   "name": "python3"
  },
  "language_info": {
   "codemirror_mode": {
    "name": "ipython",
    "version": 3
   },
   "file_extension": ".py",
   "mimetype": "text/x-python",
   "name": "python",
   "nbconvert_exporter": "python",
   "pygments_lexer": "ipython3",
   "version": "3.6.6"
  }
 },
 "nbformat": 4,
 "nbformat_minor": 2
}
